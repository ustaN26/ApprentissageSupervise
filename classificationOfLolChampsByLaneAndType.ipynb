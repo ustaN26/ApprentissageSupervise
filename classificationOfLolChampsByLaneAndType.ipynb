{
 "cells": [
  {
   "cell_type": "markdown",
   "id": "c2e7b7791c19ab97",
   "metadata": {},
   "source": [
    "# Test et valuation of multiple supervised classification solution\n",
    "The dataset is [basics statistics](https://leagueoflegends.fandom.com/wiki/List_of_champions/Base_statistics) of [League of Legend](https://www.leagueoflegends.com/fr-fr/) champions.\n",
    "\n",
    "The 2 targets are :\n",
    "  - recommanded [lanes](https://leagueoflegends.fandom.com/wiki/Lanes) for the champion in normal game mode (defines on which of the 5 lanes the champion is suited to play), encoded in 5 sub-targets.\n",
    "  - champion's [class](https://leagueoflegends.fandom.com/wiki/Champion_classes) (define the general role of the champion)"
   ]
  },
  {
   "cell_type": "markdown",
   "id": "5af734f34f8a3205",
   "metadata": {},
   "source": [
    "## sommaire\n",
    "- [install/import](#install--import)\n",
    "  - [Data description](#Data-description)\n",
    "- [Data preprocessing](#dataPreprocessing)\n",
    "  - [Feature selection](#feature-selection)\n",
    "- [Classification](#classification)\n",
    "  - [k-nearest neighbors](#k-nearest-neighbors)\n",
    "    - [Feature Scaling](#feature-scaling)\n",
    "    - [KNN training and valuation](#knn-training-and-valuation)\n",
    "  - Naive Bayes\n",
    "    - Naive Bayes training and valuation\n",
    "  - Decision Trees\n",
    "    - Decision Trees training and valuation\n",
    "- Conclusion\n",
    "- Classification of custom entity "
   ]
  },
  {
   "cell_type": "markdown",
   "id": "af52d76c2e94d0b7",
   "metadata": {},
   "source": [
    "## install / import"
   ]
  },
  {
   "cell_type": "code",
   "execution_count": 1,
   "id": "e5fd4337-f490-47f6-871a-f39801c41c25",
   "metadata": {
    "ExecuteTime": {
     "end_time": "2024-04-08T15:28:15.755345Z",
     "start_time": "2024-04-08T15:28:15.751871Z"
    }
   },
   "outputs": [
    {
     "name": "stderr",
     "output_type": "stream",
     "text": [
      "C:\\Users\\louka\\AppData\\Local\\Temp\\ipykernel_3096\\859958988.py:8: DeprecationWarning: \n",
      "Pyarrow will become a required dependency of pandas in the next major release of pandas (pandas 3.0),\n",
      "(to allow more performant data types, such as the Arrow string type, and better interoperability with other libraries)\n",
      "but was not found to be installed on your system.\n",
      "If this would cause problems for you,\n",
      "please provide us feedback at https://github.com/pandas-dev/pandas/issues/54466\n",
      "        \n",
      "  import pandas as pd\n"
     ]
    }
   ],
   "source": [
    "#%pip install scikit-learn\n",
    "#%pip install numpy\n",
    "#%pip install pandas\n",
    "#%pip install matplotlib\n",
    "#%pip install seaborn\n",
    "\n",
    "import numpy as np\n",
    "import pandas as pd\n",
    "import seaborn as sns\n",
    "import sklearn"
   ]
  },
  {
   "cell_type": "code",
   "execution_count": 2,
   "id": "8e0e34cb12eaddeb",
   "metadata": {
    "ExecuteTime": {
     "end_time": "2024-04-08T14:03:29.606398Z",
     "start_time": "2024-04-08T14:03:29.544399Z"
    }
   },
   "outputs": [
    {
     "data": {
      "text/plain": [
       "<bound method NDFrame.head of           Name   HP    HP+   HP5  HP5+   MP   MP+    MP5  MP5+  AD  ...   MR+  \\\n",
       "0       Aatrox  650  114.0  3.00  1.00    0   0.0   0.00  0.00  60  ...  2.05   \n",
       "1         Ahri  590  104.0  2.50  0.60  418  25.0   8.00  0.80  53  ...  1.30   \n",
       "2        Akali  570  119.0  9.00  0.90  200   0.0  50.00  0.00  62  ...  2.05   \n",
       "3       Akshan  630  107.0  3.75  0.65  350  40.0   8.20  0.70  52  ...  1.30   \n",
       "4      Alistar  685  120.0  8.50  0.85  350  40.0   8.50  0.80  62  ...  2.05   \n",
       "..         ...  ...    ...   ...   ...  ...   ...    ...   ...  ..  ...   ...   \n",
       "166       Zeri  630  110.0  3.25  0.70  250  45.0   6.00  0.80  56  ...  1.30   \n",
       "167      Ziggs  606  106.0  6.50  0.60  480  23.5   8.00  0.80  55  ...  1.30   \n",
       "168     Zilean  574   96.0  5.50  0.50  452  50.0  11.35  0.80  52  ...  1.30   \n",
       "169        Zoe  630  106.0  7.50  0.60  425  25.0   8.00  0.65  58  ...  1.30   \n",
       "170       Zyra  574   93.0  5.50  0.50  418  25.0   7.00  0.80  53  ...  1.30   \n",
       "\n",
       "      MS  Ranged  Range  isTop  isJgl  isMid  isBot  isSup       Class  \n",
       "0    345       0    175      1      0      0      0      0  juggernaut  \n",
       "1    330       1    550      0      0      1      0      0       burst  \n",
       "2    345       0    125      1      0      1      0      0    assassin  \n",
       "3    330       1    500      0      0      1      0      0    marksman  \n",
       "4    330       0    125      0      0      0      0      1    vanguard  \n",
       "..   ...     ...    ...    ...    ...    ...    ...    ...         ...  \n",
       "166  330       1    500      0      0      0      1      0    marksman  \n",
       "167  325       1    550      0      0      1      1      0   artillery  \n",
       "168  335       1    550      0      0      0      0      1  specialist  \n",
       "169  340       1    550      0      0      1      0      0       burst  \n",
       "170  340       1    575      0      0      0      0      1     catcher  \n",
       "\n",
       "[171 rows x 26 columns]>"
      ]
     },
     "execution_count": 2,
     "metadata": {},
     "output_type": "execute_result"
    }
   ],
   "source": [
    "df = pd.read_csv(\"./projetStatsChampsLol.csv\")\n",
    "df.head"
   ]
  },
  {
   "cell_type": "markdown",
   "id": "c1002eaab249d653",
   "metadata": {},
   "source": [
    "## Data description\n",
    "Get the dataset and quick check of eventual failure.\n",
    "- Features presentation:\n",
    "  - champion name, useless for classification but more readable than entity numbers for graphical representation \n",
    "  - variables annotated with '+' indicate the scalling value added to the initial one for each champion level, from 1 to 18 over the course of the game.\n",
    "  - HP : number of health points.\n",
    "    - HP5 : number of health points recovered per 5 seconds\n",
    "  - MP : Mana points, or energy point for some champs\n",
    "    - MP5 : number of mana/energy points recovered per 5 seconds\n",
    "  - AD : Attack Damage, physical pre-mitigation damage dealt when using basic attack (right click)\n",
    "  - AS : Attack Speed, maximum attack the champ can deal per second \n",
    "    - the \"+\" scalling value is a percentage add to the implied \"Bonus Attack Speed\" value. It result that the **effective AS** = **basic AS***(1+**Bonus AS**) \n",
    "  - AR : ARmor, parameter of a non-linear function that calculates physical incurred damage (physical post-mitigated damage) as a function of physical pre-mitigation damage\n",
    "  - MR : Magic Resistance, same as armor but for magic damages.\n",
    "  - MS : Movement Speed, number of game-distance unit traveled per second\n",
    "  - ranged : variable affecting access to and use of certain in-game objects.\n",
    "  - range : radius around the champion in which basic attacks can be made.\n",
    "\n",
    "  \"Ranged\" is the only non-numerical var but is directly linked to the \"range\" one, it's used to avoid confusion between certain champions: for example, Urgot is ranged but with a small 350 range for his category, while Lillia is not ranged, even though she has a range of 325. This variable is really important, as some in-game items are only available for one of the two categories.\n",
    "\n",
    "Target presentation  \n",
    "- Lanes : the lanes normally define the player's game objective or gameplay for the current match.\n",
    "  - \"Top\" : starts on the upper track, often has two types of gameplay: splitpush or engaging teamfights\n",
    "  - \"Jgl\" : plays in the jungle, collecting resources via neutral monsters, his goal is to help the 3 lanes via ganks to take advantage of a numerical advantage. he must also prepare the ground to defeat epic monsters with his team regularly in the match. \n",
    "  - \"Mid\" : starts on the middle path, has three objectives: gank side lanes (top and bot), help the Jgl (jungler) vanquish epic monsters, eliminate problematic targets in teamfights.\n",
    "  - \"Bot\" : starts on the lower track, almost exclusively AD carry (marksman) or AP carry (battlemage). the aim is to gain as many resources as possible to be able to DPS effectively in teamfights or push quickly.\n",
    "  - \"Sup\" : support, his goal is to help his Bot gain resources considerably in the first few minutes of the game, and then he goes on to help all the lanes. He normally leaves the resources to his allies.\n",
    "- Class : \n",
    "  - define the general role of the champion  \n",
    "  - \"marksman\"   : use their long range damage and basic attacks to DPS (deal constant Damage Per Second) enemies \n",
    "  - \"assassin\"   : able to penetrate enemy defenses to eliminate weak targets, thanks to their high mobility and capacity to avoid incoming damage\n",
    "  - \"burst\"      : mage whose aim is to eliminate one or two targets with a combo of a few spells, then stand back\n",
    "  - \"diver\"      : able to penetrate enemy defenses to eliminate weak targets, thanks to their high mobility \n",
    "  - \"vanguard\"   : lead the charge for their team and specialize at bringing the action, by high resistance, mobility and control capabilities\n",
    "  - \"specialist\" : psychological zoners, control enemy pathing by using special positioning or zone spells to dissuade an opponent from approaching, at the risk of exposing themselves to a violent counter-attack\n",
    "  - \"juggernaut\" : melee titans who excel at both dealing and taking significant amounts of damage, but get low ange and bad mobility\n",
    "  - \"skirmisher\" : also named Duelist, built to win a 1v1 against any enemy and survive if others arrive, thanks to strong defensive or holding capabilities\n",
    "  - \"battlemage\" : mage very efficient in short range damage areas\n",
    "  - \"enchanter\"  : amplifying their allies' effectiveness, by healing or boost them\n",
    "  - \"catcher\"    : control enemy movements, but allies-dependent because of low damage resistance or low damages\n",
    "  - \"warden\"     : defensive tanks. Wardens stand steadfast, seeking to hold the line by persistently locking down any on-comers who try to pass them.\n",
    "  - \"artillery\"  : mage who excel in long range magic damage\n",
    " \n",
    "[glossary](https://www.progressersurleagueoflegends.fr/guides/guides-connaissances/lexique-league-of-legends/) : Splitpush, teamfights, jungle, tank, gank, DPS, carry, etc."
   ]
  },
  {
   "cell_type": "markdown",
   "id": "c5fcc9916341800d",
   "metadata": {},
   "source": [
    "# Data preprocessing"
   ]
  },
  {
   "cell_type": "markdown",
   "id": "b5b1cc4b0ce46021",
   "metadata": {},
   "source": [
    "## Feature selection"
   ]
  },
  {
   "cell_type": "markdown",
   "id": "59071b60844ea67c",
   "metadata": {},
   "source": [
    "**Check for missing values :**\n",
    "no missing values."
   ]
  },
  {
   "cell_type": "code",
   "execution_count": 6,
   "id": "80fedd3c-afd9-4f92-987c-a0add63e6e2c",
   "metadata": {
    "ExecuteTime": {
     "end_time": "2024-04-08T15:08:38.598669Z",
     "start_time": "2024-04-08T15:08:38.594703Z"
    }
   },
   "outputs": [
    {
     "name": "stdout",
     "output_type": "stream",
     "text": [
      "Name      0\n",
      "HP        0\n",
      "HP+       0\n",
      "HP5       0\n",
      "HP5+      0\n",
      "MP        0\n",
      "MP+       0\n",
      "MP5       0\n",
      "MP5+      0\n",
      "AD        0\n",
      "AD+       0\n",
      "AS        0\n",
      "AS+       0\n",
      "AR        0\n",
      "AR+       0\n",
      "MR        0\n",
      "MR+       0\n",
      "MS        0\n",
      "Ranged    0\n",
      "Range     0\n",
      "isTop     0\n",
      "isJgl     0\n",
      "isMid     0\n",
      "isBot     0\n",
      "isSup     0\n",
      "Class     0\n",
      "dtype: int64\n"
     ]
    }
   ],
   "source": [
    "print(df.isna().sum())"
   ]
  },
  {
   "cell_type": "code",
   "execution_count": 3,
   "id": "82c43dd9-e864-40a2-98db-fc86e1a10e8c",
   "metadata": {
    "ExecuteTime": {
     "end_time": "2024-04-08T16:04:58.020043Z",
     "start_time": "2024-04-08T16:04:58.012603Z"
    }
   },
   "outputs": [
    {
     "name": "stdout",
     "output_type": "stream",
     "text": [
      "['Ranged', 'Class']\n",
      "['HP', 'HP+', 'HP5', 'HP5+', 'MP', 'MP+', 'MP5', 'MP5+', 'AD', 'AD+', 'AS', 'AS+', 'AR', 'AR+', 'MR', 'MR+', 'MS', 'Range']\n",
      "['isTop', 'isJgl', 'isMid', 'isBot', 'isSup']\n"
     ]
    }
   ],
   "source": [
    "qualitative_vars = [\"Ranged\",\"Class\"]\n",
    "target_vars = [\"isTop\",\"isJgl\",\"isMid\",\"isBot\",\"isSup\"]\n",
    "quantitative_vars = [col for col in df.columns if col not in qualitative_vars + target_vars + [\"Name\"]]\n",
    "print(qualitative_vars)\n",
    "print(quantitative_vars)\n",
    "print(target_vars)\n",
    "X_qualitative = df[qualitative_vars]\n",
    "X_quantitative = df[quantitative_vars]\n",
    "X_total = pd.concat([X_quantitative,X_qualitative], axis=1)\n",
    "Y = df[target_vars]"
   ]
  },
  {
   "cell_type": "code",
   "execution_count": 8,
   "id": "fdfa82a6-6792-490c-8380-eb53bdd87341",
   "metadata": {
    "ExecuteTime": {
     "end_time": "2024-04-08T15:14:06.697252Z",
     "start_time": "2024-04-08T15:14:06.694278Z"
    }
   },
   "outputs": [],
   "source": [
    "# ALED faut expliquer quoi?"
   ]
  },
  {
   "cell_type": "markdown",
   "id": "346d361d281f8dbc",
   "metadata": {},
   "source": [
    "# Classification\n",
    "## k-nearest neighbors\n",
    "\n",
    "== expliquer le KNN\n",
    "\n",
    "### Feature scaling"
   ]
  },
  {
   "cell_type": "code",
   "execution_count": 4,
   "id": "ab2685aa820570b6",
   "metadata": {
    "ExecuteTime": {
     "end_time": "2024-04-08T16:18:20.497800Z",
     "start_time": "2024-04-08T16:18:20.477960Z"
    }
   },
   "outputs": [
    {
     "name": "stdout",
     "output_type": "stream",
     "text": [
      "          0         1      2     3         4         5      6     7         8  \\\n",
      "0    0.6000  0.544484  0.300  0.80  0.000000  0.000000  0.000  0.00  0.689655   \n",
      "1    0.4500  0.423488  0.250  0.48  0.788679  0.287356  0.160  0.80  0.448276   \n",
      "2    0.4000  0.604982  0.900  0.72  0.377358  0.000000  1.000  0.00  0.758621   \n",
      "3    0.5500  0.459786  0.375  0.52  0.660377  0.459770  0.164  0.70  0.413793   \n",
      "4    0.6875  0.617082  0.850  0.68  0.660377  0.459770  0.170  0.80  0.758621   \n",
      "..      ...       ...    ...   ...       ...       ...    ...   ...       ...   \n",
      "166  0.5500  0.496085  0.325  0.56  0.471698  0.517241  0.120  0.80  0.551724   \n",
      "167  0.4900  0.447687  0.650  0.48  0.905660  0.270115  0.160  0.80  0.517241   \n",
      "168  0.4100  0.326690  0.550  0.40  0.852830  0.574713  0.227  0.80  0.413793   \n",
      "169  0.5500  0.447687  0.750  0.48  0.801887  0.287356  0.160  0.65  0.620690   \n",
      "170  0.4100  0.290391  0.550  0.40  0.788679  0.287356  0.140  0.80  0.448276   \n",
      "\n",
      "            9        10        11        12        13        14        15  \\\n",
      "0    0.909091  0.469333  0.416667  0.689655  0.664179  0.588235  0.256757   \n",
      "1    0.545455  0.514667  0.366667  0.103448  0.701493  0.470588  0.054054   \n",
      "2    0.600000  0.400000  0.533333  0.172414  0.701493  0.882353  0.256757   \n",
      "3    0.545455  0.434667  0.666667  0.275862  0.701493  0.470588  0.054054   \n",
      "4    0.681818  0.400000  0.354167  1.000000  0.701493  0.588235  0.256757   \n",
      "..        ...       ...       ...       ...       ...       ...       ...   \n",
      "166  0.363636  0.488000  0.333333  0.206897  0.626866  0.470588  0.054054   \n",
      "167  0.563636  0.482667  0.333333  0.103448  0.701493  0.470588  0.054054   \n",
      "168  0.545455  0.488000  0.355000  0.206897  0.746269  0.470588  0.054054   \n",
      "169  0.600000  0.488000  0.416667  0.103448  0.701493  0.470588  0.054054   \n",
      "170  0.581818  0.549333  0.351667  0.379310  0.626866  0.470588  0.054054   \n",
      "\n",
      "           16        17  Ranged       Class  \n",
      "0    0.857143  0.095238       0  juggernaut  \n",
      "1    0.642857  0.809524       1       burst  \n",
      "2    0.857143  0.000000       0    assassin  \n",
      "3    0.642857  0.714286       1    marksman  \n",
      "4    0.642857  0.000000       0    vanguard  \n",
      "..        ...       ...     ...         ...  \n",
      "166  0.642857  0.714286       1    marksman  \n",
      "167  0.571429  0.809524       1   artillery  \n",
      "168  0.714286  0.809524       1  specialist  \n",
      "169  0.785714  0.809524       1       burst  \n",
      "170  0.785714  0.857143       1     catcher  \n",
      "\n",
      "[171 rows x 20 columns]\n"
     ]
    },
    {
     "ename": "AttributeError",
     "evalue": "'DataFrame' object has no attribute 'Class'",
     "output_type": "error",
     "traceback": [
      "\u001b[1;31m---------------------------------------------------------------------------\u001b[0m",
      "\u001b[1;31mAttributeError\u001b[0m                            Traceback (most recent call last)",
      "\u001b[1;32m~\\AppData\\Local\\Temp\\ipykernel_3096\\2978398700.py\u001b[0m in \u001b[0;36m?\u001b[1;34m()\u001b[0m\n\u001b[0;32m      8\u001b[0m \u001b[0mprint\u001b[0m\u001b[1;33m(\u001b[0m\u001b[0mX_KNN\u001b[0m\u001b[1;33m)\u001b[0m\u001b[1;33m\u001b[0m\u001b[1;33m\u001b[0m\u001b[0m\n\u001b[0;32m      9\u001b[0m \u001b[1;32mfrom\u001b[0m \u001b[0msklearn\u001b[0m\u001b[1;33m.\u001b[0m\u001b[0mpreprocessing\u001b[0m \u001b[1;32mimport\u001b[0m \u001b[0mLabelEncoder\u001b[0m\u001b[1;33m\u001b[0m\u001b[1;33m\u001b[0m\u001b[0m\n\u001b[0;32m     10\u001b[0m \u001b[0mlabel_encoder\u001b[0m \u001b[1;33m=\u001b[0m \u001b[0mLabelEncoder\u001b[0m\u001b[1;33m(\u001b[0m\u001b[1;33m)\u001b[0m\u001b[1;33m\u001b[0m\u001b[1;33m\u001b[0m\u001b[0m\n\u001b[0;32m     11\u001b[0m \u001b[0mencoded_y\u001b[0m \u001b[1;33m=\u001b[0m \u001b[1;33m[\u001b[0m\u001b[1;33m]\u001b[0m\u001b[1;33m\u001b[0m\u001b[1;33m\u001b[0m\u001b[0m\n\u001b[1;32m---> 12\u001b[1;33m \u001b[0mencoded_y\u001b[0m\u001b[1;33m.\u001b[0m\u001b[0mappend\u001b[0m\u001b[1;33m(\u001b[0m\u001b[0mlabel_encoder\u001b[0m\u001b[1;33m.\u001b[0m\u001b[0mfit_transform\u001b[0m\u001b[1;33m(\u001b[0m\u001b[0mY\u001b[0m\u001b[1;33m.\u001b[0m\u001b[0mClass\u001b[0m\u001b[1;33m)\u001b[0m\u001b[1;33m)\u001b[0m\u001b[1;33m\u001b[0m\u001b[1;33m\u001b[0m\u001b[0m\n\u001b[0m\u001b[0;32m     13\u001b[0m \u001b[0mprint\u001b[0m\u001b[1;33m(\u001b[0m\u001b[1;34mf\"===== Encoded classes: {label_encoder.classes_}\"\u001b[0m\u001b[1;33m)\u001b[0m\u001b[1;33m\u001b[0m\u001b[1;33m\u001b[0m\u001b[0m\n\u001b[0;32m     14\u001b[0m \u001b[0mencoded_y\u001b[0m \u001b[1;33m=\u001b[0m \u001b[0mnp\u001b[0m\u001b[1;33m.\u001b[0m\u001b[0marray\u001b[0m\u001b[1;33m(\u001b[0m\u001b[0mencoded_y\u001b[0m\u001b[1;33m)\u001b[0m\u001b[1;33m.\u001b[0m\u001b[0mT\u001b[0m\u001b[1;33m\u001b[0m\u001b[1;33m\u001b[0m\u001b[0m\n",
      "\u001b[1;32m~\\OneDrive\\Bureau\\math comp 2\\Githup du cours\\venv\\Lib\\site-packages\\pandas\\core\\generic.py\u001b[0m in \u001b[0;36m?\u001b[1;34m(self, name)\u001b[0m\n\u001b[0;32m   6289\u001b[0m             \u001b[1;32mand\u001b[0m \u001b[0mname\u001b[0m \u001b[1;32mnot\u001b[0m \u001b[1;32min\u001b[0m \u001b[0mself\u001b[0m\u001b[1;33m.\u001b[0m\u001b[0m_accessors\u001b[0m\u001b[1;33m\u001b[0m\u001b[1;33m\u001b[0m\u001b[0m\n\u001b[0;32m   6290\u001b[0m             \u001b[1;32mand\u001b[0m \u001b[0mself\u001b[0m\u001b[1;33m.\u001b[0m\u001b[0m_info_axis\u001b[0m\u001b[1;33m.\u001b[0m\u001b[0m_can_hold_identifiers_and_holds_name\u001b[0m\u001b[1;33m(\u001b[0m\u001b[0mname\u001b[0m\u001b[1;33m)\u001b[0m\u001b[1;33m\u001b[0m\u001b[1;33m\u001b[0m\u001b[0m\n\u001b[0;32m   6291\u001b[0m         ):\n\u001b[0;32m   6292\u001b[0m             \u001b[1;32mreturn\u001b[0m \u001b[0mself\u001b[0m\u001b[1;33m[\u001b[0m\u001b[0mname\u001b[0m\u001b[1;33m]\u001b[0m\u001b[1;33m\u001b[0m\u001b[1;33m\u001b[0m\u001b[0m\n\u001b[1;32m-> 6293\u001b[1;33m         \u001b[1;32mreturn\u001b[0m \u001b[0mobject\u001b[0m\u001b[1;33m.\u001b[0m\u001b[0m__getattribute__\u001b[0m\u001b[1;33m(\u001b[0m\u001b[0mself\u001b[0m\u001b[1;33m,\u001b[0m \u001b[0mname\u001b[0m\u001b[1;33m)\u001b[0m\u001b[1;33m\u001b[0m\u001b[1;33m\u001b[0m\u001b[0m\n\u001b[0m",
      "\u001b[1;31mAttributeError\u001b[0m: 'DataFrame' object has no attribute 'Class'"
     ]
    }
   ],
   "source": [
    "from sklearn.preprocessing import MinMaxScaler\n",
    "\n",
    "min_max_scaler = MinMaxScaler()\n",
    "min_max_scaler.fit(X_quantitative)\n",
    "scaled_quantitative = min_max_scaler.transform(X_quantitative)\n",
    "X_KNN = pd.concat([pd.DataFrame(scaled_quantitative),X_qualitative], axis=1)\n",
    "X_KNN.columns = X_KNN.columns.astype(str)\n",
    "print(X_KNN)\n",
    "from sklearn.preprocessing import LabelEncoder\n",
    "label_encoder = LabelEncoder()\n",
    "encoded_y = []\n",
    "encoded_y.append(label_encoder.fit_transform(Y.Class))\n",
    "print(f\"===== Encoded classes: {label_encoder.classes_}\")\n",
    "encoded_y = np.array(encoded_y).T"
   ]
  },
  {
   "cell_type": "markdown",
   "id": "b5219aa309c2b244",
   "metadata": {},
   "source": [
    "For each p in [1,2,3] and k in [1,3,5,7], split intro 4 datasets: X_train, y_train, X_test, y_test, with a 60% train / 40% test"
   ]
  },
  {
   "cell_type": "markdown",
   "id": "8ed040eb80c167fe",
   "metadata": {},
   "source": [
    "### KNN training and valuation"
   ]
  },
  {
   "cell_type": "code",
   "execution_count": 5,
   "id": "9c9ebac7b21d217a",
   "metadata": {
    "ExecuteTime": {
     "end_time": "2024-04-08T16:32:32.218047Z",
     "start_time": "2024-04-08T16:32:31.968064Z"
    }
   },
   "outputs": [
    {
     "ename": "AttributeError",
     "evalue": "'list' object has no attribute 'ravel'",
     "output_type": "error",
     "traceback": [
      "\u001b[1;31m---------------------------------------------------------------------------\u001b[0m",
      "\u001b[1;31mAttributeError\u001b[0m                            Traceback (most recent call last)",
      "Cell \u001b[1;32mIn[5], line 5\u001b[0m\n\u001b[0;32m      2\u001b[0m \u001b[38;5;28;01mfrom\u001b[39;00m \u001b[38;5;21;01msklearn\u001b[39;00m\u001b[38;5;21;01m.\u001b[39;00m\u001b[38;5;21;01mneighbors\u001b[39;00m \u001b[38;5;28;01mimport\u001b[39;00m KNeighborsClassifier\n\u001b[0;32m      3\u001b[0m \u001b[38;5;28;01mfrom\u001b[39;00m \u001b[38;5;21;01msklearn\u001b[39;00m\u001b[38;5;21;01m.\u001b[39;00m\u001b[38;5;21;01mmetrics\u001b[39;00m \u001b[38;5;28;01mimport\u001b[39;00m recall_score, precision_score, f1_score, accuracy_score\n\u001b[1;32m----> 5\u001b[0m X_train, X_test, y_train, y_test \u001b[38;5;241m=\u001b[39m train_test_split(X_KNN, \u001b[43mencoded_y\u001b[49m\u001b[38;5;241;43m.\u001b[39;49m\u001b[43mravel\u001b[49m(), test_size\u001b[38;5;241m=\u001b[39m\u001b[38;5;241m0.5\u001b[39m)\n\u001b[0;32m      6\u001b[0m \u001b[38;5;28;01mfor\u001b[39;00m p \u001b[38;5;129;01min\u001b[39;00m \u001b[38;5;241m1\u001b[39m,\u001b[38;5;241m2\u001b[39m,\u001b[38;5;241m3\u001b[39m:\n\u001b[0;32m      7\u001b[0m     \u001b[38;5;28;01mfor\u001b[39;00m k \u001b[38;5;129;01min\u001b[39;00m \u001b[38;5;28mrange\u001b[39m(\u001b[38;5;241m1\u001b[39m,\u001b[38;5;241m9\u001b[39m,\u001b[38;5;241m2\u001b[39m) : \n",
      "\u001b[1;31mAttributeError\u001b[0m: 'list' object has no attribute 'ravel'"
     ]
    }
   ],
   "source": [
    "from sklearn.model_selection import train_test_split\n",
    "from sklearn.neighbors import KNeighborsClassifier\n",
    "from sklearn.metrics import recall_score, precision_score, f1_score, accuracy_score\n",
    "\n",
    "X_train, X_test, y_train, y_test = train_test_split(X_KNN, encoded_y.ravel(), test_size=0.5)\n",
    "for p in 1,2,3:\n",
    "    for k in range(1,9,2) : \n",
    "        KNN = KNeighborsClassifier(n_neighbors=k, weights=\"distance\", p=p)\n",
    "        KNN.fit(X_train,y_train)\n",
    "        prediction = KNN.predict(X_test)\n",
    "        print(\"========= KNN split k=\"+str(k)+\" minkowski=\"+str(p)+\" ============\")\n",
    "        print(\"accuracy= \"+str(accuracy_score(y_test, prediction)))\n",
    "        print(\"precision= \"+str(precision_score(y_test, prediction,average='macro',zero_division=0)))\n",
    "        print(\"recall= \"+str(recall_score(y_test, prediction,average='macro',zero_division=0)))\n",
    "        print(\"f1-score= \"+str(f1_score(y_test, prediction,average='macro',zero_division=0)))\n",
    "print(\"end\")\n",
    "\n",
    "X_train, X_test, y_train, y_test = train_test_split(X_KNN, encoded_y.ravel(), test_size=0.2, stratify=encoded_y.ravel())\n",
    "for p in 1,2,3:\n",
    "    for k in range(1,9,2) : \n",
    "        KNN = KNeighborsClassifier(n_neighbors=k, weights=\"distance\", p=p)\n",
    "        KNN.fit(X_train,y_train)\n",
    "        prediction = KNN.predict(X_test)\n",
    "        print(\"========= KNN stratified split k=\"+str(k)+\" minkowski=\"+str(p)+\" ============\")\n",
    "        print(\"accuracy= \"+str(accuracy_score(y_test, prediction)))\n",
    "        print(\"precision= \"+str(precision_score(y_test, prediction,average='macro',zero_division=0)))\n",
    "        print(\"recall= \"+str(recall_score(y_test, prediction,average='macro',zero_division=0)))\n",
    "        print(\"f1-score= \"+str(f1_score(y_test, prediction,average='macro',zero_division=0)))\n",
    "print(\"end\")\n"
   ]
  },
  {
   "cell_type": "markdown",
   "id": "34eb04728b0168cc",
   "metadata": {},
   "source": []
  },
  {
   "cell_type": "markdown",
   "id": "afb6800b8fe9692f",
   "metadata": {},
   "source": []
  }
 ],
 "metadata": {
  "kernelspec": {
   "display_name": "Python 3 (ipykernel)",
   "language": "python",
   "name": "python3"
  },
  "language_info": {
   "codemirror_mode": {
    "name": "ipython",
    "version": 3
   },
   "file_extension": ".py",
   "mimetype": "text/x-python",
   "name": "python",
   "nbconvert_exporter": "python",
   "pygments_lexer": "ipython3",
   "version": "3.11.7"
  }
 },
 "nbformat": 4,
 "nbformat_minor": 5
}
