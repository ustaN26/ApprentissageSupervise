{
 "cells": [
  {
   "metadata": {},
   "cell_type": "markdown",
   "source": [
    "# Test et valuation of multiple supervised classification solution\n",
    "The dataset is [basics statistics](https://leagueoflegends.fandom.com/wiki/List_of_champions/Base_statistics) of [League of Legend](https://www.leagueoflegends.com/fr-fr/) champions.\n",
    "\n",
    "The 2 targets are :\n",
    "  - recommanded [lanes](https://leagueoflegends.fandom.com/wiki/Lanes) for the champion in normal game mode (defines on which of the 5 lanes the champion is suited to play), encoded in 5 sub-targets.\n",
    "  - champion's [class](https://leagueoflegends.fandom.com/wiki/Champion_classes) (define the general role of the champion)"
   ],
   "id": "c2e7b7791c19ab97"
  },
  {
   "metadata": {},
   "cell_type": "markdown",
   "source": [
    "## sommaire\n",
    "- [install/import](#install--import)\n",
    "- [Data preprocessing](#dataPreprocessing)\n",
    "  - Feature Scaling\n",
    "  - Feature selection\n",
    "- Classification\n",
    "  - KNN\n",
    "    - KNN training\n",
    "    - KNN valuation\n",
    "  - Naive Bayes\n",
    "    - Naive Bayes training\n",
    "    - Naive Bayes valuation\n",
    "  - Decision Trees\n",
    "    - Decision Trees training\n",
    "    - Decision Trees valuation\n",
    "- Conclusion\n",
    "- Classification of custom entity "
   ],
   "id": "5af734f34f8a3205"
  },
  {
   "metadata": {},
   "cell_type": "markdown",
   "source": "## install / import",
   "id": "af52d76c2e94d0b7"
  },
  {
   "cell_type": "code",
   "id": "e5fd4337-f490-47f6-871a-f39801c41c25",
   "metadata": {
    "ExecuteTime": {
     "end_time": "2024-04-07T14:00:17.824563Z",
     "start_time": "2024-04-07T14:00:17.821587Z"
    }
   },
   "source": [
    "#%pip install scikit-learn\n",
    "#%pip install numpy\n",
    "#%pip install pandas\n",
    "import numpy as np\n",
    "import pandas as pd"
   ],
   "outputs": [],
   "execution_count": 6
  },
  {
   "metadata": {},
   "cell_type": "markdown",
   "source": [
    "## Data preprocessing\n",
    "Get the dataset and quick check of eventual failure.\n",
    "- Features presentation:\n",
    "  - champion name, useless for classification but more readable than entity numbers for graphical representation \n",
    "  - variables annotated with '+' indicate the scalling value added to the initial one for each champion level, from 1 to 18 over the course of the game.\n",
    "  - HP : number of health points.\n",
    "    - HP5 : number of health points recovered per 5 seconds\n",
    "  - MP : Mana points, or energy point for some champs\n",
    "    - MP5 : number of mana/energy points recovered per 5 seconds\n",
    "  - AD : Attack Damage, physical pre-mitigation damage dealt when using basic attack (right click)\n",
    "  - AS : Attack Speed, maximum attack the champ can deal per second \n",
    "    - the \"+\" scalling value is a percentage add to the implied \"Bonus Attack Speed\" value. It result that the **effective AS** = **basic AS***(1+**Bonus AS**) \n",
    "  - AR : ARmor, parameter of a non-linear function that calculates physical incurred damage (physical post-mitigated damage) as a function of physical pre-mitigation damage\n",
    "  - MR : Magic Resistance, same as armor but for magic damages.\n",
    "  - MS : Movement Speed, number of game-distance unit traveled per second\n",
    "  - ranged : variable affecting access to and use of certain in-game objects.\n",
    "  - range : radius around the champion in which basic attacks can be made.\n",
    "\n",
    "  \"Ranged\" is the only non-numerical var but is directly linked to the \"range\" one, it's used to avoid confusion between certain champions: for example, Urgot is ranged but with a small 350 range for his category, while Lillia is not ranged, even though she has a range of 325. This variable is really important, as some in-game items are only available for one of the two categories.\n",
    "\n",
    "Target presentation  \n",
    "- Lanes :\n",
    "  - \"Top\" :\n",
    "  - \"Jgl\" :\n",
    "  - \"Mid\" :\n",
    "  - \"Bot\" :\n",
    "  - \"Sup\" :\n",
    "- Class : \n",
    "  - define the general role of the champion  \n",
    "  - \"marksman\"   : use their long range damage and basic attacks to dps (deal constant Damage Per Second) enemies \n",
    "  - \"assassin\"   : able to penetrate enemy defenses to eliminate weak targets, thanks to their high mobility and capacity to avoid incoming damage\n",
    "  - \"burst\"      : mage whose aim is to eliminate one or two targets with a combo of a few spells, then stand back\n",
    "  - \"diver\"      : able to penetrate enemy defenses to eliminate weak targets, thanks to their high mobility \n",
    "  - \"vanguard\"   : lead the charge for their team and specialize at bringing the action, by high resistance, mobility and control capabilities\n",
    "  - \"specialist\" : psychological zoners, control enemy pathing by using special positioning or zone spells to dissuade an opponent from approaching, at the risk of exposing themselves to a violent counter-attack\n",
    "  - \"juggernaut\" : melee titans who excel at both dealing and taking significant amounts of damage, but get low ange and bad mobility\n",
    "  - \"skirmisher\" : also named Duelist, built to win a 1v1 against any enemy and survive if others arrive, thanks to strong defensive or holding capabilities\n",
    "  - \"battlemage\" : mage very efficient in short range damage areas\n",
    "  - \"enchanter\"  : amplifying their allies' effectiveness, by healing or boost them\n",
    "  - \"catcher\"    : control enemy movements, but allies-dependent because of low tankiness or low damages\n",
    "  - \"warden\"     : defensive tanks. Wardens stand steadfast, seeking to hold the line by persistently locking down any on-comers who try to pass them.\n",
    "  - \"artillery\"  : mage who excel in long range magic damage"
   ],
   "id": "c1002eaab249d653"
  },
  {
   "cell_type": "code",
   "id": "f97a4d5b-b053-4499-a350-9481ce2b46ff",
   "metadata": {
    "ExecuteTime": {
     "end_time": "2024-04-07T16:08:12.292012Z",
     "start_time": "2024-04-07T16:08:12.283580Z"
    }
   },
   "source": [
    "df = pd.read_csv(\"./projetStatsChampsLol.csv\")\n",
    "df.head\n",
    "df.Class.value_counts()"
   ],
   "outputs": [
    {
     "data": {
      "text/plain": [
       "Class\n",
       "marksman      25\n",
       "assassin      17\n",
       "burst         16\n",
       "diver         16\n",
       "vanguard      15\n",
       "specialist    15\n",
       "juggernaut    14\n",
       "skirmisher    14\n",
       "battlemage    11\n",
       "enchanter      9\n",
       "catcher        7\n",
       "warden         6\n",
       "artillery      6\n",
       "Name: count, dtype: int64"
      ]
     },
     "execution_count": 18,
     "metadata": {},
     "output_type": "execute_result"
    }
   ],
   "execution_count": 18
  },
  {
   "metadata": {},
   "cell_type": "markdown",
   "source": [
    "**Check for missing values :**\n",
    "no missing values."
   ],
   "id": "59071b60844ea67c"
  },
  {
   "cell_type": "code",
   "id": "80fedd3c-afd9-4f92-987c-a0add63e6e2c",
   "metadata": {
    "ExecuteTime": {
     "end_time": "2024-04-07T14:27:59.428058Z",
     "start_time": "2024-04-07T14:27:59.423594Z"
    }
   },
   "source": [
    "df.isna().sum().sum()\n",
    "#na"
   ],
   "outputs": [
    {
     "data": {
      "text/plain": [
       "0"
      ]
     },
     "execution_count": 13,
     "metadata": {},
     "output_type": "execute_result"
    }
   ],
   "execution_count": 13
  },
  {
   "metadata": {},
   "cell_type": "markdown",
   "source": "## Feature Scaling\n",
   "id": "e9ae4b9bf0a4173b"
  },
  {
   "cell_type": "code",
   "id": "82c43dd9-e864-40a2-98db-fc86e1a10e8c",
   "metadata": {
    "ExecuteTime": {
     "end_time": "2024-04-07T14:00:17.856801Z",
     "start_time": "2024-04-07T14:00:17.848370Z"
    }
   },
   "source": [
    "qualitative_vars = [\"Ranged\"]\n",
    "target_vars = [\"isTop\",\"isJgl\",\"isMid\",\"isBot\",\"isSup\",\"type\"]\n",
    "quantitative_vars = [[col for col in df.columns if col not in qualitative_vars + target_vars + [\"Name\"]]]\n",
    "print(qualitative_vars)\n",
    "print(quantitative_vars)\n",
    "print(target_vars)"
   ],
   "outputs": [
    {
     "name": "stdout",
     "output_type": "stream",
     "text": [
      "['Ranged']\n",
      "[['HP', 'HP+', 'HP5', 'HP5+', 'MP', 'MP+', 'MP5', 'MP5+', 'AD', 'AD+', 'AS', 'AS+', 'AR', 'AR+', 'MR', 'MR+', 'MS', 'Range']]\n",
      "['isTop', 'isJgl', 'isMid', 'isBot', 'isSup', 'type']\n"
     ]
    }
   ],
   "execution_count": 9
  },
  {
   "cell_type": "code",
   "id": "fdfa82a6-6792-490c-8380-eb53bdd87341",
   "metadata": {
    "ExecuteTime": {
     "end_time": "2024-04-07T14:00:17.980812Z",
     "start_time": "2024-04-07T14:00:17.857795Z"
    }
   },
   "source": [
    "for col in df.column() :\n",
    "    top = []\n",
    "    top = df.sort_values()\n"
   ],
   "outputs": [
    {
     "ename": "AttributeError",
     "evalue": "'DataFrame' object has no attribute 'column'",
     "output_type": "error",
     "traceback": [
      "\u001B[1;31m---------------------------------------------------------------------------\u001B[0m",
      "\u001B[1;31mAttributeError\u001B[0m                            Traceback (most recent call last)",
      "\u001B[1;32m~\\AppData\\Local\\Temp\\ipykernel_19940\\391514389.py\u001B[0m in \u001B[0;36m?\u001B[1;34m()\u001B[0m\n\u001B[1;32m----> 1\u001B[1;33m \u001B[1;32mfor\u001B[0m \u001B[0mcol\u001B[0m \u001B[1;32min\u001B[0m \u001B[0mdf\u001B[0m\u001B[1;33m.\u001B[0m\u001B[0mcolumn\u001B[0m\u001B[1;33m(\u001B[0m\u001B[1;33m)\u001B[0m \u001B[1;33m:\u001B[0m\u001B[1;33m\u001B[0m\u001B[1;33m\u001B[0m\u001B[0m\n\u001B[0m\u001B[0;32m      2\u001B[0m     \u001B[0mtop\u001B[0m \u001B[1;33m=\u001B[0m \u001B[1;33m[\u001B[0m\u001B[1;33m]\u001B[0m\u001B[1;33m\u001B[0m\u001B[1;33m\u001B[0m\u001B[0m\n\u001B[0;32m      3\u001B[0m     \u001B[0mtop\u001B[0m \u001B[1;33m=\u001B[0m \u001B[0mdf\u001B[0m\u001B[1;33m.\u001B[0m\u001B[0msort_values\u001B[0m\u001B[1;33m(\u001B[0m\u001B[1;33m)\u001B[0m\u001B[1;33m\u001B[0m\u001B[1;33m\u001B[0m\u001B[0m\n\u001B[0;32m      4\u001B[0m \u001B[1;33m\u001B[0m\u001B[0m\n",
      "\u001B[1;32m~\\OneDrive\\Documents\\onedriveSync\\coursL3\\S6\\complementMath\\venv\\Lib\\site-packages\\pandas\\core\\generic.py\u001B[0m in \u001B[0;36m?\u001B[1;34m(self, name)\u001B[0m\n\u001B[0;32m   6289\u001B[0m             \u001B[1;32mand\u001B[0m \u001B[0mname\u001B[0m \u001B[1;32mnot\u001B[0m \u001B[1;32min\u001B[0m \u001B[0mself\u001B[0m\u001B[1;33m.\u001B[0m\u001B[0m_accessors\u001B[0m\u001B[1;33m\u001B[0m\u001B[1;33m\u001B[0m\u001B[0m\n\u001B[0;32m   6290\u001B[0m             \u001B[1;32mand\u001B[0m \u001B[0mself\u001B[0m\u001B[1;33m.\u001B[0m\u001B[0m_info_axis\u001B[0m\u001B[1;33m.\u001B[0m\u001B[0m_can_hold_identifiers_and_holds_name\u001B[0m\u001B[1;33m(\u001B[0m\u001B[0mname\u001B[0m\u001B[1;33m)\u001B[0m\u001B[1;33m\u001B[0m\u001B[1;33m\u001B[0m\u001B[0m\n\u001B[0;32m   6291\u001B[0m         ):\n\u001B[0;32m   6292\u001B[0m             \u001B[1;32mreturn\u001B[0m \u001B[0mself\u001B[0m\u001B[1;33m[\u001B[0m\u001B[0mname\u001B[0m\u001B[1;33m]\u001B[0m\u001B[1;33m\u001B[0m\u001B[1;33m\u001B[0m\u001B[0m\n\u001B[1;32m-> 6293\u001B[1;33m         \u001B[1;32mreturn\u001B[0m \u001B[0mobject\u001B[0m\u001B[1;33m.\u001B[0m\u001B[0m__getattribute__\u001B[0m\u001B[1;33m(\u001B[0m\u001B[0mself\u001B[0m\u001B[1;33m,\u001B[0m \u001B[0mname\u001B[0m\u001B[1;33m)\u001B[0m\u001B[1;33m\u001B[0m\u001B[1;33m\u001B[0m\u001B[0m\n\u001B[0m",
      "\u001B[1;31mAttributeError\u001B[0m: 'DataFrame' object has no attribute 'column'"
     ]
    }
   ],
   "execution_count": 10
  },
  {
   "metadata": {},
   "cell_type": "markdown",
   "source": "",
   "id": "346d361d281f8dbc"
  },
  {
   "metadata": {},
   "cell_type": "markdown",
   "source": "",
   "id": "191d719452421d5a"
  },
  {
   "metadata": {},
   "cell_type": "markdown",
   "source": "",
   "id": "34eb04728b0168cc"
  },
  {
   "metadata": {},
   "cell_type": "markdown",
   "source": "",
   "id": "afb6800b8fe9692f"
  }
 ],
 "metadata": {
  "kernelspec": {
   "display_name": "Python 3 (ipykernel)",
   "language": "python",
   "name": "python3"
  },
  "language_info": {
   "codemirror_mode": {
    "name": "ipython",
    "version": 3
   },
   "file_extension": ".py",
   "mimetype": "text/x-python",
   "name": "python",
   "nbconvert_exporter": "python",
   "pygments_lexer": "ipython3",
   "version": "3.11.3"
  }
 },
 "nbformat": 4,
 "nbformat_minor": 5
}
